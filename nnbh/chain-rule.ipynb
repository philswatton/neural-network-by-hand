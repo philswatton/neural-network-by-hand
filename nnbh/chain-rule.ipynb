{
 "cells": [
  {
   "attachments": {},
   "cell_type": "markdown",
   "metadata": {},
   "source": [
    "# The Chain Rule\n",
    "\n",
    "The chain rule is used in calculus to compute the derivatives of composite functions. Since neural networks are really just composite functions, this becomes particularly important for computing the gradients for use during gradient descent."
   ]
  },
  {
   "attachments": {},
   "cell_type": "markdown",
   "metadata": {},
   "source": [
    "## Function Composition\n",
    "\n",
    "We start with two terms expressing two functions:\n",
    "\n",
    "$$ z = g(x) $$\n",
    "\n",
    "and:\n",
    "\n",
    "$$ y = f(g(x)) $$\n",
    "\n",
    "The second term represents a *composite* function. In other words, it's a combination of two functions.\n",
    "\n",
    "A composite function is sometimes written as:\n",
    "\n",
    "$$ f(g(x)) = (f \\circ g)(x) $$\n",
    "\n",
    "Not to be confused with the general notation for binary operations used in this notebook ($\\bigcirc$).\n",
    "\n",
    "Note that $ y = x^2 + x $ is *not* a composite function. To be a composition function, the output of one function *must* be supplied as the input to another function. In other words, it must be expressable as $f(g(x))$."
   ]
  },
  {
   "attachments": {},
   "cell_type": "markdown",
   "metadata": {},
   "source": [
    "## Scalar Chain Rule\n",
    "\n",
    "For scalar values and functions, the chain rule can be given as:\n",
    "\n",
    "$$ \\frac{dy}{dx} = \\frac{dy}{dz} \\frac{dz}{dx} $$\n",
    "\n"
   ]
  }
 ],
 "metadata": {
  "kernelspec": {
   "display_name": ".venv",
   "language": "python",
   "name": "python3"
  },
  "language_info": {
   "name": "python",
   "version": "3.10.4"
  },
  "orig_nbformat": 4,
  "vscode": {
   "interpreter": {
    "hash": "604b3010db54221e39668d7fe34b06214f54669d432870c9edb2f6a865eeb971"
   }
  }
 },
 "nbformat": 4,
 "nbformat_minor": 2
}
