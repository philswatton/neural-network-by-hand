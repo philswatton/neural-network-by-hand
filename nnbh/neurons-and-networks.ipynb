{
 "cells": [
  {
   "attachments": {},
   "cell_type": "markdown",
   "metadata": {},
   "source": [
    "# Neurons and Networks\n",
    "\n",
    "TODO:\n",
    "\n",
    "- What is a neuron\n",
    "- What are the components of a neuron\n",
    "- How do we put them together\n",
    "- Forward propagation and how it's used to estimate the output"
   ]
  }
 ],
 "metadata": {
  "kernelspec": {
   "display_name": ".venv",
   "language": "python",
   "name": "python3"
  },
  "language_info": {
   "name": "python",
   "version": "3.10.4"
  },
  "orig_nbformat": 4,
  "vscode": {
   "interpreter": {
    "hash": "604b3010db54221e39668d7fe34b06214f54669d432870c9edb2f6a865eeb971"
   }
  }
 },
 "nbformat": 4,
 "nbformat_minor": 2
}
