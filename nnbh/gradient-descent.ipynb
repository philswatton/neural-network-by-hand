{
 "cells": [
  {
   "attachments": {},
   "cell_type": "markdown",
   "metadata": {},
   "source": [
    "# Gradient Descent\n",
    "\n",
    "According to [Wikipedia](https://en.wikipedia.org/wiki/Gradient_descent), Gradient Descent is an *iterative optimisation function* for finding the *local minimum* of a *differentiable function*.\n",
    "\n",
    "So what does all that actually mean?"
   ]
  },
  {
   "attachments": {},
   "cell_type": "markdown",
   "metadata": {},
   "source": [
    "## Differential Functions and Local Minimums\n",
    "\n",
    "It's helpful to start at the end. Here, we're using function in the mathematical sense of the term, which is something that given an input (e.g. a single number), produces an output (e.g. another number).\n",
    "\n",
    "For example, we could use\n",
    "\n",
    "$$ f(x) = x^2 $$\n",
    "\n",
    "as our function. Or we could use\n",
    "\n",
    "$$ g(y) = 5 + 2y^2 $$\n",
    "\n",
    "as our function. The first takes an input $x$, and squares it. The second takes an input $y$, squares it, multiplies the result by two, then adds five to it.\n",
    "\n",
    "Formally, a function assigns every element of a set $X$ to a single output in the set $Y$. Once this is set out, *differentiable* is clear: we can differentiate the function (i.e. establish a formula for the rate of change in the output).\n",
    "\n",
    "The *minimum* of a function is the point at which the output is at its lowest possible value. For $f(x)$ above, this is \n"
   ]
  },
  {
   "attachments": {},
   "cell_type": "markdown",
   "metadata": {},
   "source": [
    "## Iterative Optimisation\n",
    "\n",
    "Some words"
   ]
  },
  {
   "attachments": {},
   "cell_type": "markdown",
   "metadata": {},
   "source": [
    "## Gradient Descent\n",
    "\n",
    "Some words"
   ]
  },
  {
   "cell_type": "code",
   "execution_count": 1,
   "metadata": {},
   "outputs": [],
   "source": [
    "import numpy as np\n",
    "\n",
    "def gd(\n",
    "    gradient_function: callable,\n",
    "    start: float,\n",
    "    learn_rate: float,\n",
    "    max_iter: int = 100,\n",
    "    tol: float=0.01\n",
    "    ):\n",
    "    \"\"\"\n",
    "    A simple implementation of gradient descent to optimise single-parameter functions\n",
    "\n",
    "    Args:\n",
    "        gradient_function: Callable for the gradient of the function being optimised\n",
    "        start: Starting value to optimise from\n",
    "        learn_rate: Learning rate for the update\n",
    "        max_iter: Maximum number of iterations\n",
    "        tol: Break clause for the gradient descent\n",
    "\n",
    "    Returns: a dictionary containing the following:\n",
    "        minimum: The estimated value at which the minimum of the function is found\n",
    "        steps: Each step in estimating the minimum\n",
    "        num_iter: The number of iterations\n",
    "        final_diff: The final difference in estimated values\n",
    "    \"\"\"\n",
    "    \n",
    "    steps = [start] #tracking our steps\n",
    "    minimum = start\n",
    "    \n",
    "    iter = 0\n",
    "    diff = np.Inf\n",
    "    while iter < max_iter and diff > tol:\n",
    "        \n",
    "        # Update\n",
    "        minimum = minimum - learn_rate * gradient_function(minimum)\n",
    "        \n",
    "        # Store, increment, check diff\n",
    "        steps.append(minimum)\n",
    "        iter += 1\n",
    "        diff = np.abs(steps[len(steps)-1] - minimum)\n",
    "  \n",
    "    # Store output\n",
    "    out = {\n",
    "        \"minimum\": minimum,\n",
    "        \"steps\": steps,\n",
    "        \"num_iter\": iter,\n",
    "        \"final_diff\": diff\n",
    "    }\n",
    "    \n",
    "    return out"
   ]
  },
  {
   "attachments": {},
   "cell_type": "markdown",
   "metadata": {},
   "source": [
    "Example func below"
   ]
  },
  {
   "cell_type": "code",
   "execution_count": 27,
   "metadata": {},
   "outputs": [
    {
     "data": {
      "image/png": "[encoded data removed]",
      "text/plain": [
       "<Figure size 640x480 with 1 Axes>"
      ]
     },
     "metadata": {},
     "output_type": "display_data"
    }
   ],
   "source": [
    "import matplotlib.pyplot as plt\n",
    "\n",
    "# The function we're considering\n",
    "def quadratic(x):\n",
    "    return x**2 - 4*x + 1\n",
    "\n",
    "# 100 linearly spaced numbers\n",
    "x = np.linspace(-5,5,100)\n",
    "\n",
    "# apply the function\n",
    "y = quadratic(x)\n",
    "\n",
    "# setting the axes at the centre\n",
    "fig = plt.figure()\n",
    "ax = fig.add_subplot(1, 1, 1)\n",
    "ax.spines['left'].set_position('center')\n",
    "ax.spines['bottom'].set_position('zero')\n",
    "ax.spines['right'].set_color('none')\n",
    "ax.spines['top'].set_color('none')\n",
    "ax.xaxis.set_ticks_position('bottom')\n",
    "ax.yaxis.set_ticks_position('left')\n",
    "\n",
    "# plot the function\n",
    "plt.plot(x,y, 'r')\n",
    "\n",
    "# show the plot\n",
    "plt.show()"
   ]
  },
  {
   "attachments": {},
   "cell_type": "markdown",
   "metadata": {},
   "source": [
    "Let's find the gradient"
   ]
  },
  {
   "cell_type": "code",
   "execution_count": 26,
   "metadata": {},
   "outputs": [
    {
     "name": "stdout",
     "output_type": "stream",
     "text": [
      "2.0\n"
     ]
    }
   ],
   "source": [
    "def quadratic_gradient(x):\n",
    "    return 2*x - 4\n",
    "\n",
    "est = gd(quadratic_gradient, start=9, learn_rate=0.5)\n",
    "print(est[\"minimum\"])"
   ]
  },
  {
   "attachments": {},
   "cell_type": "markdown",
   "metadata": {},
   "source": [
    "It worked!"
   ]
  },
  {
   "attachments": {},
   "cell_type": "markdown",
   "metadata": {},
   "source": [
    "## Functions of Many Variables\n",
    "\n",
    "Something something parital derivatives"
   ]
  }
 ],
 "metadata": {
  "kernelspec": {
   "display_name": ".venv",
   "language": "python",
   "name": "python3"
  },
  "language_info": {
   "codemirror_mode": {
    "name": "ipython",
    "version": 3
   },
   "file_extension": ".py",
   "mimetype": "text/x-python",
   "name": "python",
   "nbconvert_exporter": "python",
   "pygments_lexer": "ipython3",
   "version": "3.10.4"
  },
  "orig_nbformat": 4,
  "vscode": {
   "interpreter": {
    "hash": "604b3010db54221e39668d7fe34b06214f54669d432870c9edb2f6a865eeb971"
   }
  }
 },
 "nbformat": 4,
 "nbformat_minor": 2
}
