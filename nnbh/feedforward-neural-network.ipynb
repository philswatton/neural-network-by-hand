{
 "cells": [
  {
   "attachments": {},
   "cell_type": "markdown",
   "metadata": {},
   "source": [
    "# Feedforward Neural Networks\n",
    "\n",
    "A full, general FNN function"
   ]
  },
  {
   "cell_type": "code",
   "execution_count": 1,
   "metadata": {},
   "outputs": [],
   "source": [
    "import numpy as np"
   ]
  },
  {
   "attachments": {},
   "cell_type": "markdown",
   "metadata": {},
   "source": [
    "## Activation Functions"
   ]
  },
  {
   "cell_type": "code",
   "execution_count": 3,
   "metadata": {},
   "outputs": [],
   "source": [
    "def sigmoid(X):\n",
    "    return 1 / (1 - np.exp(-X))\n",
    "\n",
    "def deriv_sigmoid(X):\n",
    "    sigmoid(X)*(1-sigmoid(X))"
   ]
  },
  {
   "cell_type": "code",
   "execution_count": 4,
   "metadata": {},
   "outputs": [],
   "source": [
    "def tanh(X):\n",
    "    return (np.exp(X) - np.exp(-X))/(np.exp(X)+np.exp(-X))\n",
    "\n",
    "def deriv_tanh(X):\n",
    "    return 1 - (tanh(X))**2"
   ]
  },
  {
   "cell_type": "code",
   "execution_count": 5,
   "metadata": {},
   "outputs": [],
   "source": [
    "def relu(X):\n",
    "    return X * (X>=0)\n",
    "\n",
    "def deriv_relu(X):\n",
    "    return (X>=0).astype(\"int\")"
   ]
  },
  {
   "attachments": {},
   "cell_type": "markdown",
   "metadata": {},
   "source": [
    "## Cost Functions"
   ]
  },
  {
   "cell_type": "code",
   "execution_count": null,
   "metadata": {},
   "outputs": [],
   "source": [
    "def mse(yhat, y, n):\n",
    "    return ((yhat-y)**2)/(2*n)\n",
    "\n",
    "def deriv_mse():\n",
    "    # TODO"
   ]
  },
  {
   "attachments": {},
   "cell_type": "markdown",
   "metadata": {},
   "source": [
    "## Managing Activation and Cost Function Choice"
   ]
  },
  {
   "cell_type": "code",
   "execution_count": null,
   "metadata": {},
   "outputs": [],
   "source": [
    "# Function to manage which activation function to use\n",
    "def get_activation(name: str) -> function:\n",
    "    if name == \"sigmoid\":\n",
    "        return sigmoid, deriv_sigmoid\n",
    "    if name == \"relu\":\n",
    "        return relu, deriv_relu\n",
    "    if name == \"linear\":\n",
    "        return linear, deriv_linear\n",
    "\n",
    "# Function to manage which cost function to use\n",
    "def get_cost(name: str) -> function:\n",
    "    if name == \"linear\" or name == \"relu\":\n",
    "        return mse, deriv_mse\n",
    "    if name == \"sigmoid\":\n",
    "        return cross_entropy, deriv_cross_entropy"
   ]
  },
  {
   "attachments": {},
   "cell_type": "markdown",
   "metadata": {},
   "source": [
    "## A Feedforward Neural Network Function"
   ]
  },
  {
   "cell_type": "code",
   "execution_count": null,
   "metadata": {},
   "outputs": [],
   "source": [
    "def fnn(X, Y, hidden, learn_rate=0.03, hidden_activation=\"relu\",\n",
    "        output_activation=\"mse\", tol=0.0001, max_iter=100):\n",
    "    \"\"\"_summary_\n",
    "\n",
    "    Args:\n",
    "        X (_type_): _description_\n",
    "        Y (_type_): _description_\n",
    "        hidden (_type_): List of length D where the nth entry describes\n",
    "        the number of nodes for the nth hidden layer\n",
    "        hidden_activation: The activation function to use in the hiddden layers\n",
    "        output_activation: The activation function to use in the output layer\n",
    "        learn_rate: _description_\n",
    "        tol: _description_\n",
    "        max_iter: _description_\n",
    "    \"\"\"\n",
    "    \n",
    "    # Get core numbers\n",
    "    shape_X = X.shape\n",
    "    shape_Y = Y.shape\n",
    "    n_obs = shape_X[1]\n",
    "    n_x = shape_X[0]\n",
    "    n_y = shape_Y[0]\n",
    "    layer_widths = hidden + n_y\n",
    "    n_layer = len(hidden) + 1\n",
    "    \n",
    "    # Initialise network\n",
    "    W = [np.random.randn(n_x, hidden[0]) * 0.01]\n",
    "    b = []\n",
    "    Z = []\n",
    "    for i in range(len(layer_widths)):\n",
    "        W.append(np.random.randn(layer_widths[i], layer_widths[i+1]) * 0.01)\n",
    "        b.append(np.zeros((layer_widths[i],1)))\n",
    "        Z.append(np.zeros((n_obs,layer_widths[i])))\n",
    "    W.append(np.random.randn(layer_widths[len(layer_widths)], 1) * 0.01)\n",
    "    b.append(np.zeros((layer_widths[len(layer_widths)],1)))\n",
    "    \n",
    "    # Activation and error\n",
    "    activation_hidden, activation_hidden_deriv = get_activation(hidden_activation)\n",
    "    activation_output, activation_output_deriv = get_activation(output_activation)\n",
    "    cost, cost_deriv = get_cost(output_activation)\n",
    "    \n",
    "    # Training loop\n",
    "    iter = 1\n",
    "    diff = 9999999999999\n",
    "    while iter <= (max_iter) and diff > tol:\n",
    "        # Forward propagation - calculate Z, activations, Yhat\n",
    "        # TODO\n",
    "        \n",
    "        # Update difference\n",
    "        \n",
    "        # Back propagation - calculate gradients dW, dB, dZ\n",
    "        # TODO\n",
    "        \n",
    "        # Update parameters - gradient descent rule\n",
    "        \n",
    "        # \n",
    "    "
   ]
  },
  {
   "attachments": {},
   "cell_type": "markdown",
   "metadata": {},
   "source": [
    "## Example 1: Learning XOR"
   ]
  },
  {
   "cell_type": "code",
   "execution_count": null,
   "metadata": {},
   "outputs": [],
   "source": [
    "X = np.array([[0,0],\n",
    "              [0,1],\n",
    "              [1,0],\n",
    "              [1,1]])\n",
    "Y = np.array([[0],[1],[1],[0]])"
   ]
  },
  {
   "attachments": {},
   "cell_type": "markdown",
   "metadata": {},
   "source": [
    "## Example 2: "
   ]
  }
 ],
 "metadata": {
  "kernelspec": {
   "display_name": ".venv",
   "language": "python",
   "name": "python3"
  },
  "language_info": {
   "codemirror_mode": {
    "name": "ipython",
    "version": 3
   },
   "file_extension": ".py",
   "mimetype": "text/x-python",
   "name": "python",
   "nbconvert_exporter": "python",
   "pygments_lexer": "ipython3",
   "version": "3.10.4"
  },
  "orig_nbformat": 4,
  "vscode": {
   "interpreter": {
    "hash": "604b3010db54221e39668d7fe34b06214f54669d432870c9edb2f6a865eeb971"
   }
  }
 },
 "nbformat": 4,
 "nbformat_minor": 2
}
